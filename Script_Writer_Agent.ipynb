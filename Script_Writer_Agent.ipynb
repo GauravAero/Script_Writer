{
  "cells": [
    {
      "cell_type": "markdown",
      "metadata": {
        "id": "view-in-github",
        "colab_type": "text"
      },
      "source": [
        "<a href=\"https://colab.research.google.com/github/GauravAero/Script_Writer/blob/GauravAero-patch-1/Script_Writer_Agent.ipynb\" target=\"_parent\"><img src=\"https://colab.research.google.com/assets/colab-badge.svg\" alt=\"Open In Colab\"/></a>"
      ]
    },
    {
      "cell_type": "markdown",
      "id": "b7e7ae8f",
      "metadata": {
        "id": "b7e7ae8f"
      },
      "source": [
        "# Script Writer Using CrewAI"
      ]
    },
    {
      "cell_type": "markdown",
      "id": "f717489a",
      "metadata": {
        "id": "f717489a"
      },
      "source": [
        "\n",
        "In this notebook, we demonstrate how to build and collaborating agentic AI system using **CrewAI**. The system integrates multiple agents, each with a specific role, to:\n",
        "1. Gather current information from the internet about given topic.\n",
        "2. Make a conversational script out of the information.\n",
        "\n",
        "---\n",
        "### Workflow Overview\n",
        "1. Define tools to support the agents, such as web search capabilities.\n",
        "2. Create two agents for data gathering and script creation.\n",
        "3. Define tasks corresponding to these agents.\n",
        "4. Set up a crew that executes the tasks sequentially.\n",
        "5. Run the crew to achieve the desired outcome.\n",
        "\n",
        "---\n",
        "### Code Walkthrough\n",
        "Below is the implementation.\n"
      ]
    },
    {
      "cell_type": "markdown",
      "id": "7afc3692",
      "metadata": {
        "id": "7afc3692"
      },
      "source": [
        "### Step 1: Import Required Libraries and Define Tools"
      ]
    },
    {
      "cell_type": "code",
      "execution_count": null,
      "id": "Jko63Caw_IBL",
      "metadata": {
        "collapsed": true,
        "id": "Jko63Caw_IBL"
      },
      "outputs": [],
      "source": [
        "## initial setup for Colab.\n",
        "## if you are using this in local jupyter notebook, skip this cell\n",
        "!pip install crewai\n",
        "!pip install crewai-tools\n",
        "!pip install duckduckgo-search\n",
        "!pip install langchain-community\n",
        "!pip install litellm"
      ]
    },
    {
      "cell_type": "code",
      "execution_count": null,
      "id": "4a751d22",
      "metadata": {
        "id": "4a751d22"
      },
      "outputs": [],
      "source": [
        "from crewai import Agent, Task\n",
        "from crewai.tools import tool\n",
        "from crewai.llm import LLM\n",
        "from langchain_community.tools import DuckDuckGoSearchRun\n",
        "from datetime import datetime\n",
        "import os\n",
        "\n",
        "# Current date for context\n",
        "Now = datetime.now()\n",
        "Today = Now.strftime(\"%d-%b-%Y\")\n",
        "\n",
        "# Define a web search tool\n",
        "@tool(\"DuckDuckGo Search\")\n",
        "def search_tool(search_query: str):\n",
        "    \"\"\"Search the internet for information on a given topic\"\"\"\n",
        "    return DuckDuckGoSearchRun().run(search_query)\n"
      ]
    },
    {
      "cell_type": "markdown",
      "id": "b3c0586a",
      "metadata": {
        "id": "b3c0586a"
      },
      "source": [
        "### Step 2: Setup your API key for LLM and Define the Agents"
      ]
    },
    {
      "cell_type": "code",
      "source": [
        "from google.colab import userdata\n",
        "\n",
        "# Retrieve your API key from Colab secrets\n",
        "os.environ[\"GOOGLE_API_KEY\"] = userdata.get('Gemini_key')\n",
        "\n",
        "# Use CrewAI's built-in LLM configuration (Recommended)\n",
        "from crewai import LLM\n",
        "\n",
        "# Configure Gemini LLM directly through CrewAI\n",
        "gemini_llm = LLM(\n",
        "    model=\"gemini/gemini-2.5-flash\",  # Use gemini/ prefix for CrewAI\n",
        "    api_key=os.environ[\"GOOGLE_API_KEY\"]\n",
        ")"
      ],
      "metadata": {
        "id": "SR-qtqAaXT2I"
      },
      "id": "SR-qtqAaXT2I",
      "execution_count": null,
      "outputs": []
    },
    {
      "cell_type": "code",
      "execution_count": null,
      "id": "e7683988",
      "metadata": {
        "id": "e7683988"
      },
      "outputs": [],
      "source": [
        "from crewai import Agent\n",
        "#from langchain_community.tools.exa.tool import ExaSearchTool\n",
        "\n",
        "## Agent designed to gather information about a topic from internet.\n",
        "content_explorer = Agent (\n",
        "    role = 'content explorer',\n",
        "    goal = 'Gather and provide latest information about the topic from internet',\n",
        "    llm = gemini_llm,\n",
        "    # llm = 'groq/gemma2-9b-it',\n",
        "    # llm = 'openrouter/deepseek/deepseek-chat-v3-0324:free',\n",
        "    # llm = 'gpt-4o',\n",
        "    verbose = True,\n",
        "    backstory = ('You are an expert researcher, who can gather detailed information about a topic.\\\n",
        "                  Gather at least 10 information. Consider you are on : '+Today),\n",
        "    #tools = [Exa_Search_Tool],\n",
        "    cache = True,\n",
        "    max_iter = 5\n",
        ")\n",
        "\n",
        "## Creat an Agent to write a script from the info gathered by content_explorer.\n",
        "## Back story sets the context for the agent.\n",
        "\n",
        "Script_Writer = Agent (\n",
        "    role = 'Script Writer',\n",
        "    goal = 'With the details given to you create an interesting conversational script out of it',\n",
        "    #llm = 'openrouter/deepseek/deepseek-chat-v3-0324:free',(Any other LLM can be used)\n",
        "    llm = gemini_llm,\n",
        "    verbose = True,\n",
        "    backstory = ('You are an expert in Shakesperean literature. You are very good in creating conversations with the given chain of information.\\\n",
        "                 Tell as a script in 200 words.\\\n",
        "                 Consider you are on '+Today),\n",
        ")\n",
        "\n",
        "os.environ['OTEL_SDK_DISABLED'] = \"True\"\n"
      ]
    },
    {
      "cell_type": "markdown",
      "id": "0dbda9c6",
      "metadata": {
        "id": "0dbda9c6"
      },
      "source": [
        "### Step 3: Define the Tasks"
      ]
    },
    {
      "cell_type": "code",
      "execution_count": null,
      "id": "2c4ddc01",
      "metadata": {
        "id": "2c4ddc01"
      },
      "outputs": [],
      "source": [
        "from crewai import Task\n",
        "\n",
        "# Task to gather Latest information\n",
        "get_details = Task (\n",
        "                      description = \"Get latest, trending, interesting information and news about {topic}\",\n",
        "                      expected_output = \"Latest news, interesting information and trivia about {topic}\",\n",
        "                      agent = content_explorer\n",
        "                    )\n",
        "\n",
        "## Task to create script.\n",
        "create_a_script = Task (\n",
        "                      description = \"Considering the given details in time order make an interesting conversation\",\n",
        "                      expected_output = \"A humorous conversation connecting key details\",\n",
        "                      agent = Script_Writer,\n",
        "                      context = [get_details],\n",
        "                      output_file = 'Script.txt'\n",
        "                    )\n",
        "\n"
      ]
    },
    {
      "cell_type": "markdown",
      "id": "0bb19341",
      "metadata": {
        "id": "0bb19341"
      },
      "source": [
        "### Step 4: Set Up the Crew"
      ]
    },
    {
      "cell_type": "code",
      "execution_count": null,
      "id": "a7f1058d",
      "metadata": {
        "id": "a7f1058d"
      },
      "outputs": [],
      "source": [
        "from crewai import Crew, Process\n",
        "from datetime import datetime\n",
        "\n",
        "# Callback function to print a timestamp\n",
        "def timestamp(Input):\n",
        "    print(datetime.now())\n",
        "\n",
        "# Define the crew with agents and tasks in sequential process\n",
        "crew = Crew (\n",
        "    agents = [content_explorer, Script_Writer],\n",
        "    tasks = [get_details, create_a_script],\n",
        "    verbose = True,\n",
        "    Process = Process.sequential,\n",
        "    step_callback = timestamp\n",
        ")"
      ]
    },
    {
      "cell_type": "markdown",
      "id": "f3557b9f",
      "metadata": {
        "id": "f3557b9f"
      },
      "source": [
        "### Step 5: Run the Crew and Observe Results"
      ]
    },
    {
      "cell_type": "code",
      "execution_count": null,
      "id": "907ceb8a",
      "metadata": {
        "id": "907ceb8a",
        "collapsed": true
      },
      "outputs": [],
      "source": [
        "# Run the crew with a specific topic\n",
        "result = crew.kickoff (inputs={'topic' : \"Iran Isral conflict\"})\n"
      ]
    },
    {
      "cell_type": "markdown",
      "id": "4acf8a0f",
      "metadata": {
        "id": "4acf8a0f"
      },
      "source": [
        "\n",
        "---\n",
        "### Conclusion\n",
        "This workflow demonstrates how to integrate multiple agents to perform tasks sequentially in a context. It showcases the power of CrewAI for building AI-driven collaborative solutions.\n"
      ]
    }
  ],
  "metadata": {
    "colab": {
      "provenance": [],
      "gpuType": "T4",
      "include_colab_link": true
    },
    "kernelspec": {
      "display_name": "Python 3",
      "name": "python3"
    },
    "language_info": {
      "name": "python"
    }
  },
  "nbformat": 4,
  "nbformat_minor": 5
}
